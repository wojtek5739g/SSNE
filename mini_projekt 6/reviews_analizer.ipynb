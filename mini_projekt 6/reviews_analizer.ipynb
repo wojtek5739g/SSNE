{
  "cells": [
    {
      "cell_type": "code",
      "execution_count": 116,
      "metadata": {
        "id": "CDUEQVjtX58w"
      },
      "outputs": [],
      "source": [
        "import torch\n",
        "import torch.nn as nn\n",
        "import torch.optim as optim\n",
        "from sklearn.feature_extraction.text import CountVectorizer, TfidfVectorizer\n",
        "from sklearn.model_selection import train_test_split\n",
        "import pandas as pd"
      ]
    },
    {
      "cell_type": "code",
      "execution_count": 117,
      "metadata": {
        "colab": {
          "base_uri": "https://localhost:8080/"
        },
        "id": "TS5rjXnSZhtC",
        "outputId": "c2f42a6b-2e4f-4fdb-e3b2-2b918ada11a0"
      },
      "outputs": [
        {
          "data": {
            "text/plain": [
              "device(type='cpu')"
            ]
          },
          "execution_count": 117,
          "metadata": {},
          "output_type": "execute_result"
        }
      ],
      "source": [
        "device = torch.device(\"cuda\" if torch.cuda.is_available() else \"cpu\")\n",
        "device"
      ]
    },
    {
      "cell_type": "code",
      "execution_count": 118,
      "metadata": {
        "id": "FW-9CxPTX589"
      },
      "outputs": [],
      "source": [
        "# loading train data\n",
        "data = pd.read_csv(\"train_data.csv\")\n",
        "\n",
        "# dividing data into review and rating\n",
        "reviews = data['review'].values\n",
        "ratings = data['rating'].values\n",
        "\n",
        "# dividing data into train and validation set\n",
        "train_reviews, val_reviews, train_ratings, val_ratings = train_test_split(reviews, ratings, test_size=0.2)"
      ]
    },
    {
      "cell_type": "code",
      "execution_count": 119,
      "metadata": {
        "id": "POv2CmGRX59A"
      },
      "outputs": [],
      "source": [
        "# loading test data\n",
        "test_data = pd.read_csv(\"test_data.csv\")\n",
        "\n",
        "test_reviews = test_data['review'].values"
      ]
    },
    {
      "cell_type": "code",
      "execution_count": 120,
      "metadata": {
        "id": "blYZN187X59B"
      },
      "outputs": [],
      "source": [
        "# prepering Bag of Words reprezentation\n",
        "vectorizer = CountVectorizer()\n",
        "train_features = vectorizer.fit_transform(train_reviews)\n",
        "# print(train_features)\n",
        "val_features = vectorizer.transform(val_reviews)\n",
        "# print(val_features)\n",
        "test_features = vectorizer.transform(test_reviews)\n",
        "\n",
        "# Przygotowanie reprezentacji TF-IDF\n",
        "# vectorizer = TfidfVectorizer()\n",
        "# train_features = vectorizer.fit_transform(train_reviews)\n",
        "# val_features = vectorizer.transform(test_reviews)"
      ]
    },
    {
      "cell_type": "code",
      "execution_count": 121,
      "metadata": {
        "id": "2UirEmqzX59E"
      },
      "outputs": [],
      "source": [
        "# classes conversion to pytorch tensors\n",
        "train_labels = torch.tensor(train_ratings - 1 + 1, device=device)\n",
        "val_labels = torch.tensor(val_ratings - 1 + 1, device=device)"
      ]
    },
    {
      "cell_type": "code",
      "execution_count": 122,
      "metadata": {
        "colab": {
          "base_uri": "https://localhost:8080/"
        },
        "id": "QW0FZOvlwfOR",
        "outputId": "18cbf707-1ea1-45c9-ac4a-04eab9cb7392"
      },
      "outputs": [
        {
          "name": "stdout",
          "output_type": "stream",
          "text": [
            "[1137 1434 1747 4831 7243]\n",
            "tensor([0.0009, 0.0007, 0.0006, 0.0002, 0.0001])\n"
          ]
        }
      ],
      "source": [
        "# calculating weight for each class\n",
        "class_counts = data['rating'].value_counts().sort_index().values\n",
        "print(class_counts)\n",
        "class_weights = 1.0 / torch.tensor(class_counts, dtype=torch.float, device=device)\n",
        "print(class_weights)"
      ]
    },
    {
      "cell_type": "code",
      "execution_count": 123,
      "metadata": {
        "id": "XkWhdK1xX59G"
      },
      "outputs": [],
      "source": [
        "# class HotelClassifier(nn.Module):\n",
        "#     def __init__(self, input_size, hidden_size, num_classes):\n",
        "#         super(HotelClassifier, self).__init__()\n",
        "#         self.fc1 = nn.Linear(input_size, hidden_size)\n",
        "#         self.relu = nn.ReLU()\n",
        "#         self.fc2 = nn.Linear(hidden_size, num_classes)\n",
        "\n",
        "#     def forward(self, x):\n",
        "#         out = self.fc1(x)\n",
        "#         out = self.relu(out)\n",
        "#         out = self.fc2(out)\n",
        "#         return out"
      ]
    },
    {
      "cell_type": "code",
      "execution_count": 124,
      "metadata": {
        "id": "Lv7AwhDI6rJB"
      },
      "outputs": [],
      "source": [
        "class HotelClassifier(nn.Module):\n",
        "    def __init__(self, input_size, hidden_size, num_classes):\n",
        "        super(HotelClassifier, self).__init__()\n",
        "        self.embedding = nn.Embedding(input_size, hidden_size)\n",
        "        self.lstm = nn.LSTM(hidden_size, hidden_size, batch_first=True)\n",
        "        self.fc = nn.Linear(hidden_size, num_classes)\n",
        "\n",
        "    def forward(self, x):\n",
        "        embedded = self.embedding(x)\n",
        "        output, _ = self.lstm(embedded)\n",
        "        out = self.fc(output[:, -1, :])\n",
        "        return out"
      ]
    },
    {
      "cell_type": "code",
      "execution_count": 125,
      "metadata": {
        "id": "CjJiCoWMX59P"
      },
      "outputs": [],
      "source": [
        "# model parameters\n",
        "input_size = train_features.shape[1]\n",
        "hidden_size = 2\n",
        "num_classes = 5\n",
        "\n",
        "model = HotelClassifier(input_size, hidden_size, num_classes).to(device)\n",
        "\n",
        "criterion = nn.CrossEntropyLoss(weight=class_weights)\n",
        "optimizer = optim.Adam(model.parameters(), lr=0.001)"
      ]
    },
    {
      "cell_type": "code",
      "execution_count": 127,
      "metadata": {
        "colab": {
          "base_uri": "https://localhost:8080/"
        },
        "id": "f4-bRwkpX59P",
        "outputId": "88ae30fe-d8e8-4f6c-8711-af10e757a04d"
      },
      "outputs": [
        {
          "name": "stderr",
          "output_type": "stream",
          "text": [
            "C:\\Users\\user\\AppData\\Local\\Temp\\ipykernel_10572\\3993328975.py:15: UserWarning: To copy construct from a tensor, it is recommended to use sourceTensor.clone().detach() or sourceTensor.clone().detach().requires_grad_(True), rather than torch.tensor(sourceTensor).\n",
            "  batch_labels = torch.tensor(batch_labels, device=device).long()\n"
          ]
        },
        {
          "name": "stdout",
          "output_type": "stream",
          "text": [
            "Epoch: 1/10, Loss: 1.6458550650849302, Train Accuracy: 0.15526576679630902\n"
          ]
        }
      ],
      "source": [
        "# training\n",
        "num_epochs = 10\n",
        "batch_size = 16\n",
        "\n",
        "for epoch in range(num_epochs):\n",
        "    total_loss = 0.0\n",
        "    total_correct = 0\n",
        "    total_samples = 0\n",
        "\n",
        "    for i in range(0, train_features.shape[0], batch_size):\n",
        "        batch_features = train_features[i:i + batch_size]\n",
        "        batch_labels = train_labels[i:i + batch_size]\n",
        "\n",
        "        batch_features = torch.tensor(batch_features.toarray(), device=device).long()\n",
        "        batch_labels = torch.tensor(batch_labels, device=device).long()\n",
        "\n",
        "        optimizer.zero_grad()\n",
        "        outputs = model(batch_features)\n",
        "        loss = criterion(outputs, batch_labels)\n",
        "        loss.backward()\n",
        "        optimizer.step()\n",
        "\n",
        "        total_loss += loss.item()\n",
        "        _, predicted = torch.max(outputs, 1)\n",
        "        # print(predicted)\n",
        "        total_correct += (predicted == batch_labels).sum().item()\n",
        "        total_samples += batch_labels.size(0)\n",
        "\n",
        "    train_loss = total_loss / (train_features.shape[0] // batch_size)\n",
        "    train_accuracy = total_correct / total_samples\n",
        "\n",
        "    print(f'Epoch: {epoch+1}/{num_epochs}, Loss: {train_loss}, Train Accuracy: {train_accuracy}')\n",
        "\n",
        "save_path = \"model_weights.pth\"\n",
        "torch.save(model.state_dict(), save_path)\n"
      ]
    },
    {
      "cell_type": "code",
      "execution_count": null,
      "metadata": {
        "id": "OjxWHOKRX59X"
      },
      "outputs": [
        {
          "name": "stderr",
          "output_type": "stream",
          "text": [
            "C:\\Users\\user\\AppData\\Local\\Temp\\ipykernel_10572\\3667893858.py:16: UserWarning: To copy construct from a tensor, it is recommended to use sourceTensor.clone().detach() or sourceTensor.clone().detach().requires_grad_(True), rather than torch.tensor(sourceTensor).\n",
            "  batch_labels_tensor = torch.tensor(batch_labels, device=device).long()\n"
          ]
        },
        {
          "ename": "KeyboardInterrupt",
          "evalue": "",
          "output_type": "error",
          "traceback": [
            "\u001b[1;31m---------------------------------------------------------------------------\u001b[0m",
            "\u001b[1;31mKeyboardInterrupt\u001b[0m                         Traceback (most recent call last)",
            "\u001b[1;32mc:\\Users\\user\\Documents\\STUDIA\\SEM5\\SSNE\\mini_projekt_6\\reviews_analizer.ipynb Cell 12\u001b[0m in \u001b[0;36m1\n\u001b[0;32m     <a href='vscode-notebook-cell:/c%3A/Users/user/Documents/STUDIA/SEM5/SSNE/mini_projekt_6/reviews_analizer.ipynb#X33sZmlsZQ%3D%3D?line=14'>15</a>\u001b[0m batch_features_tensor \u001b[39m=\u001b[39m torch\u001b[39m.\u001b[39mtensor(batch_features\u001b[39m.\u001b[39mtoarray(), device\u001b[39m=\u001b[39mdevice)\u001b[39m.\u001b[39mlong()\n\u001b[0;32m     <a href='vscode-notebook-cell:/c%3A/Users/user/Documents/STUDIA/SEM5/SSNE/mini_projekt_6/reviews_analizer.ipynb#X33sZmlsZQ%3D%3D?line=15'>16</a>\u001b[0m batch_labels_tensor \u001b[39m=\u001b[39m torch\u001b[39m.\u001b[39mtensor(batch_labels, device\u001b[39m=\u001b[39mdevice)\u001b[39m.\u001b[39mlong()\n\u001b[1;32m---> <a href='vscode-notebook-cell:/c%3A/Users/user/Documents/STUDIA/SEM5/SSNE/mini_projekt_6/reviews_analizer.ipynb#X33sZmlsZQ%3D%3D?line=17'>18</a>\u001b[0m val_outputs \u001b[39m=\u001b[39m model(batch_features_tensor)\n\u001b[0;32m     <a href='vscode-notebook-cell:/c%3A/Users/user/Documents/STUDIA/SEM5/SSNE/mini_projekt_6/reviews_analizer.ipynb#X33sZmlsZQ%3D%3D?line=18'>19</a>\u001b[0m _, val_predicted \u001b[39m=\u001b[39m torch\u001b[39m.\u001b[39mmax(val_outputs, \u001b[39m1\u001b[39m)\n\u001b[0;32m     <a href='vscode-notebook-cell:/c%3A/Users/user/Documents/STUDIA/SEM5/SSNE/mini_projekt_6/reviews_analizer.ipynb#X33sZmlsZQ%3D%3D?line=20'>21</a>\u001b[0m \u001b[39m# Compute batch accuracy\u001b[39;00m\n",
            "File \u001b[1;32m~\\AppData\\Local\\Packages\\PythonSoftwareFoundation.Python.3.9_qbz5n2kfra8p0\\LocalCache\\local-packages\\Python39\\site-packages\\torch\\nn\\modules\\module.py:1501\u001b[0m, in \u001b[0;36mModule._call_impl\u001b[1;34m(self, *args, **kwargs)\u001b[0m\n\u001b[0;32m   1496\u001b[0m \u001b[39m# If we don't have any hooks, we want to skip the rest of the logic in\u001b[39;00m\n\u001b[0;32m   1497\u001b[0m \u001b[39m# this function, and just call forward.\u001b[39;00m\n\u001b[0;32m   1498\u001b[0m \u001b[39mif\u001b[39;00m \u001b[39mnot\u001b[39;00m (\u001b[39mself\u001b[39m\u001b[39m.\u001b[39m_backward_hooks \u001b[39mor\u001b[39;00m \u001b[39mself\u001b[39m\u001b[39m.\u001b[39m_backward_pre_hooks \u001b[39mor\u001b[39;00m \u001b[39mself\u001b[39m\u001b[39m.\u001b[39m_forward_hooks \u001b[39mor\u001b[39;00m \u001b[39mself\u001b[39m\u001b[39m.\u001b[39m_forward_pre_hooks\n\u001b[0;32m   1499\u001b[0m         \u001b[39mor\u001b[39;00m _global_backward_pre_hooks \u001b[39mor\u001b[39;00m _global_backward_hooks\n\u001b[0;32m   1500\u001b[0m         \u001b[39mor\u001b[39;00m _global_forward_hooks \u001b[39mor\u001b[39;00m _global_forward_pre_hooks):\n\u001b[1;32m-> 1501\u001b[0m     \u001b[39mreturn\u001b[39;00m forward_call(\u001b[39m*\u001b[39margs, \u001b[39m*\u001b[39m\u001b[39m*\u001b[39mkwargs)\n\u001b[0;32m   1502\u001b[0m \u001b[39m# Do not call functions when jit is used\u001b[39;00m\n\u001b[0;32m   1503\u001b[0m full_backward_hooks, non_full_backward_hooks \u001b[39m=\u001b[39m [], []\n",
            "\u001b[1;32mc:\\Users\\user\\Documents\\STUDIA\\SEM5\\SSNE\\mini_projekt_6\\reviews_analizer.ipynb Cell 12\u001b[0m in \u001b[0;36m1\n\u001b[0;32m      <a href='vscode-notebook-cell:/c%3A/Users/user/Documents/STUDIA/SEM5/SSNE/mini_projekt_6/reviews_analizer.ipynb#X33sZmlsZQ%3D%3D?line=7'>8</a>\u001b[0m \u001b[39mdef\u001b[39;00m \u001b[39mforward\u001b[39m(\u001b[39mself\u001b[39m, x):\n\u001b[0;32m      <a href='vscode-notebook-cell:/c%3A/Users/user/Documents/STUDIA/SEM5/SSNE/mini_projekt_6/reviews_analizer.ipynb#X33sZmlsZQ%3D%3D?line=8'>9</a>\u001b[0m     embedded \u001b[39m=\u001b[39m \u001b[39mself\u001b[39m\u001b[39m.\u001b[39membedding(x)\n\u001b[1;32m---> <a href='vscode-notebook-cell:/c%3A/Users/user/Documents/STUDIA/SEM5/SSNE/mini_projekt_6/reviews_analizer.ipynb#X33sZmlsZQ%3D%3D?line=9'>10</a>\u001b[0m     output, _ \u001b[39m=\u001b[39m \u001b[39mself\u001b[39;49m\u001b[39m.\u001b[39;49mlstm(embedded)\n\u001b[0;32m     <a href='vscode-notebook-cell:/c%3A/Users/user/Documents/STUDIA/SEM5/SSNE/mini_projekt_6/reviews_analizer.ipynb#X33sZmlsZQ%3D%3D?line=10'>11</a>\u001b[0m     out \u001b[39m=\u001b[39m \u001b[39mself\u001b[39m\u001b[39m.\u001b[39mfc(output[:, \u001b[39m-\u001b[39m\u001b[39m1\u001b[39m, :])\n\u001b[0;32m     <a href='vscode-notebook-cell:/c%3A/Users/user/Documents/STUDIA/SEM5/SSNE/mini_projekt_6/reviews_analizer.ipynb#X33sZmlsZQ%3D%3D?line=11'>12</a>\u001b[0m     \u001b[39mreturn\u001b[39;00m out\n",
            "File \u001b[1;32m~\\AppData\\Local\\Packages\\PythonSoftwareFoundation.Python.3.9_qbz5n2kfra8p0\\LocalCache\\local-packages\\Python39\\site-packages\\torch\\nn\\modules\\module.py:1501\u001b[0m, in \u001b[0;36mModule._call_impl\u001b[1;34m(self, *args, **kwargs)\u001b[0m\n\u001b[0;32m   1496\u001b[0m \u001b[39m# If we don't have any hooks, we want to skip the rest of the logic in\u001b[39;00m\n\u001b[0;32m   1497\u001b[0m \u001b[39m# this function, and just call forward.\u001b[39;00m\n\u001b[0;32m   1498\u001b[0m \u001b[39mif\u001b[39;00m \u001b[39mnot\u001b[39;00m (\u001b[39mself\u001b[39m\u001b[39m.\u001b[39m_backward_hooks \u001b[39mor\u001b[39;00m \u001b[39mself\u001b[39m\u001b[39m.\u001b[39m_backward_pre_hooks \u001b[39mor\u001b[39;00m \u001b[39mself\u001b[39m\u001b[39m.\u001b[39m_forward_hooks \u001b[39mor\u001b[39;00m \u001b[39mself\u001b[39m\u001b[39m.\u001b[39m_forward_pre_hooks\n\u001b[0;32m   1499\u001b[0m         \u001b[39mor\u001b[39;00m _global_backward_pre_hooks \u001b[39mor\u001b[39;00m _global_backward_hooks\n\u001b[0;32m   1500\u001b[0m         \u001b[39mor\u001b[39;00m _global_forward_hooks \u001b[39mor\u001b[39;00m _global_forward_pre_hooks):\n\u001b[1;32m-> 1501\u001b[0m     \u001b[39mreturn\u001b[39;00m forward_call(\u001b[39m*\u001b[39margs, \u001b[39m*\u001b[39m\u001b[39m*\u001b[39mkwargs)\n\u001b[0;32m   1502\u001b[0m \u001b[39m# Do not call functions when jit is used\u001b[39;00m\n\u001b[0;32m   1503\u001b[0m full_backward_hooks, non_full_backward_hooks \u001b[39m=\u001b[39m [], []\n",
            "File \u001b[1;32m~\\AppData\\Local\\Packages\\PythonSoftwareFoundation.Python.3.9_qbz5n2kfra8p0\\LocalCache\\local-packages\\Python39\\site-packages\\torch\\nn\\modules\\rnn.py:812\u001b[0m, in \u001b[0;36mLSTM.forward\u001b[1;34m(self, input, hx)\u001b[0m\n\u001b[0;32m    810\u001b[0m \u001b[39mself\u001b[39m\u001b[39m.\u001b[39mcheck_forward_args(\u001b[39minput\u001b[39m, hx, batch_sizes)\n\u001b[0;32m    811\u001b[0m \u001b[39mif\u001b[39;00m batch_sizes \u001b[39mis\u001b[39;00m \u001b[39mNone\u001b[39;00m:\n\u001b[1;32m--> 812\u001b[0m     result \u001b[39m=\u001b[39m _VF\u001b[39m.\u001b[39;49mlstm(\u001b[39minput\u001b[39;49m, hx, \u001b[39mself\u001b[39;49m\u001b[39m.\u001b[39;49m_flat_weights, \u001b[39mself\u001b[39;49m\u001b[39m.\u001b[39;49mbias, \u001b[39mself\u001b[39;49m\u001b[39m.\u001b[39;49mnum_layers,\n\u001b[0;32m    813\u001b[0m                       \u001b[39mself\u001b[39;49m\u001b[39m.\u001b[39;49mdropout, \u001b[39mself\u001b[39;49m\u001b[39m.\u001b[39;49mtraining, \u001b[39mself\u001b[39;49m\u001b[39m.\u001b[39;49mbidirectional, \u001b[39mself\u001b[39;49m\u001b[39m.\u001b[39;49mbatch_first)\n\u001b[0;32m    814\u001b[0m \u001b[39melse\u001b[39;00m:\n\u001b[0;32m    815\u001b[0m     result \u001b[39m=\u001b[39m _VF\u001b[39m.\u001b[39mlstm(\u001b[39minput\u001b[39m, batch_sizes, hx, \u001b[39mself\u001b[39m\u001b[39m.\u001b[39m_flat_weights, \u001b[39mself\u001b[39m\u001b[39m.\u001b[39mbias,\n\u001b[0;32m    816\u001b[0m                       \u001b[39mself\u001b[39m\u001b[39m.\u001b[39mnum_layers, \u001b[39mself\u001b[39m\u001b[39m.\u001b[39mdropout, \u001b[39mself\u001b[39m\u001b[39m.\u001b[39mtraining, \u001b[39mself\u001b[39m\u001b[39m.\u001b[39mbidirectional)\n",
            "\u001b[1;31mKeyboardInterrupt\u001b[0m: "
          ]
        }
      ],
      "source": [
        "# model.load_state_dict(torch.load(\"model_weights.pth\"))\n",
        "# print(\"Trained model with class weighing:\")\n",
        "\n",
        "batch_size = 16\n",
        "\n",
        "# Validating\n",
        "with torch.no_grad():\n",
        "    val_accuracy = 0.0\n",
        "    val_total_samples = 0\n",
        "\n",
        "    for i in range(0, val_features.shape[0], batch_size):\n",
        "        batch_features = val_features[i:i + batch_size]\n",
        "        batch_labels = val_labels[i:i + batch_size]\n",
        "\n",
        "        batch_features_tensor = torch.tensor(batch_features.toarray(), device=device).long()\n",
        "        batch_labels_tensor = torch.tensor(batch_labels, device=device).long()\n",
        "\n",
        "        val_outputs = model(batch_features_tensor)\n",
        "        _, val_predicted = torch.max(val_outputs, 1)\n",
        "\n",
        "        # Compute batch accuracy\n",
        "        val_batch_accuracy = (val_predicted == batch_labels_tensor).sum().item()\n",
        "        val_accuracy += val_batch_accuracy\n",
        "        val_total_samples += batch_labels_tensor.size(0)\n",
        "\n",
        "    val_accuracy /= val_total_samples\n",
        "\n",
        "print(f'Validation Accuracy: {val_accuracy}')\n"
      ]
    },
    {
      "cell_type": "code",
      "execution_count": null,
      "metadata": {
        "id": "ZomhACoQjo8S"
      },
      "outputs": [],
      "source": [
        "model.load_state_dict(torch.load(\"model_weights.pth\"))\n",
        "\n",
        "# generating predictions on test data\n",
        "with torch.no_grad():\n",
        "    test_predicted = []\n",
        "    for i in range(0, test_features.shape[0], batch_size):\n",
        "        batch_features = test_features[i:i + batch_size]\n",
        "        batch_features_tensor = torch.tensor(batch_features.toarray(), device=device).long()\n",
        "        test_outputs = model(batch_features_tensor)\n",
        "        _, batch_predicted = torch.max(test_outputs, 1)\n",
        "\n",
        "        test_predicted.extend(batch_predicted.cpu().numpy())\n",
        "\n",
        "with open(\"poniedzialek_grunwald_rozkosz.csv\", \"a\") as results_file:\n",
        "    for prediction in test_predicted:\n",
        "        results_file.write(str(prediction.item()) + \"\\n\")\n"
      ]
    }
  ],
  "metadata": {
    "colab": {
      "gpuType": "T4",
      "provenance": []
    },
    "kernelspec": {
      "display_name": "Python 3",
      "name": "python3"
    },
    "language_info": {
      "codemirror_mode": {
        "name": "ipython",
        "version": 3
      },
      "file_extension": ".py",
      "mimetype": "text/x-python",
      "name": "python",
      "nbconvert_exporter": "python",
      "pygments_lexer": "ipython3",
      "version": "3.9.13"
    },
    "orig_nbformat": 4
  },
  "nbformat": 4,
  "nbformat_minor": 0
}
